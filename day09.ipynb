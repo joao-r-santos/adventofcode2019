{
 "cells": [
  {
   "cell_type": "markdown",
   "metadata": {
    "toc": true
   },
   "source": [
    "<h1>Table of Contents<span class=\"tocSkip\"></span></h1>\n",
    "<div class=\"toc\"><ul class=\"toc-item\"><li><span><a href=\"#Advent-of-code-2019\" data-toc-modified-id=\"Advent-of-code-2019-1\">Advent of code 2019</a></span><ul class=\"toc-item\"><li><span><a href=\"#Day-8\" data-toc-modified-id=\"Day-8-1.1\">Day 8</a></span><ul class=\"toc-item\"><li><span><a href=\"#Part-1\" data-toc-modified-id=\"Part-1-1.1.1\">Part 1</a></span></li><li><span><a href=\"#Part-2\" data-toc-modified-id=\"Part-2-1.1.2\">Part 2</a></span></li></ul></li></ul></li></ul></div>"
   ]
  },
  {
   "cell_type": "markdown",
   "metadata": {},
   "source": [
    "# Advent of code 2019"
   ]
  },
  {
   "cell_type": "markdown",
   "metadata": {},
   "source": [
    "https://adventofcode.com/2019"
   ]
  },
  {
   "cell_type": "markdown",
   "metadata": {},
   "source": [
    "## Day 8"
   ]
  },
  {
   "cell_type": "code",
   "execution_count": 3,
   "metadata": {},
   "outputs": [],
   "source": [
    "def get_opcode(value):\n",
    "    opcode = value % 100\n",
    "    if opcode not in (1, 2, 3, 4, 5, 6, 7, 8, 99):\n",
    "        raise ValueError(\"ERROR: {} is wrong opcode\".format(opcode))\n",
    "    \n",
    "    list_modes = []\n",
    "    modes = value // 100\n",
    "    for i in range(3):\n",
    "        temp_mode, modes = modes % 10, modes // 10\n",
    "        list_modes.append(temp_mode)\n",
    "\n",
    "    if any(True if u not in (0, 1) else False for u in list_modes):\n",
    "        raise ValueError(\"ERROR: wrong parameter code in {}\".format(value))\n",
    "    \n",
    "    return opcode, list_modes\n",
    "\n",
    "def get_param(values, pos, param_num, modes):\n",
    "    val = values[pos+param_num]\n",
    "    if modes[param_num-1] == 0:\n",
    "        return values[val]\n",
    "    elif modes[param_num-1] == 1:\n",
    "        return val\n",
    "    elif modes[param_num-1] == 2:\n",
    "        return None\n",
    "    else return None\n",
    "\n",
    "def run_intcode(array):\n",
    "    values = array[:]\n",
    "\n",
    "    i = 0\n",
    "    N = len(values)\n",
    "    while i < N:\n",
    "        opcode, modes = get_opcode(values[i])\n",
    "        # print(opcode, modes)\n",
    "\n",
    "        if opcode == 99:\n",
    "            yield None\n",
    "        elif opcode == 1:\n",
    "            if modes[2] == 0:\n",
    "                val1 = get_param(values, i, 1, modes)\n",
    "                val2 = get_param(values, i, 2, modes)\n",
    "                values[values[i+3]] = val1 + val2\n",
    "            i += 4\n",
    "        elif opcode == 2:\n",
    "            if modes[2] == 0:\n",
    "                val1 = get_param(values, i, 1, modes)\n",
    "                val2 = get_param(values, i, 2, modes)\n",
    "                values[values[i+3]] = val1 * val2\n",
    "            i += 4\n",
    "        elif opcode == 3:\n",
    "            if modes[0] == 0:\n",
    "                values[values[i+1]] = (yield)\n",
    "            i += 2\n",
    "        elif opcode == 4:\n",
    "            val1 = get_param(values, i, 1, modes)\n",
    "            yield val1\n",
    "            i += 2\n",
    "        elif opcode == 5:\n",
    "            val1 = get_param(values, i, 1, modes)\n",
    "            val2 = get_param(values, i, 2, modes)\n",
    "            if val1 != 0:\n",
    "                i = val2\n",
    "            else:\n",
    "                i += 3\n",
    "        elif opcode == 6:\n",
    "            val1 = get_param(values, i, 1, modes)\n",
    "            val2 = get_param(values, i, 2, modes)\n",
    "            if val1 == 0:\n",
    "                i = val2\n",
    "            else:\n",
    "                i += 3\n",
    "        elif opcode == 7:\n",
    "            val1 = get_param(values, i, 1, modes)\n",
    "            val2 = get_param(values, i, 2, modes)\n",
    "            if modes[2] == 0:\n",
    "                if val1 < val2:\n",
    "                    values[values[i+3]] = 1\n",
    "                else:\n",
    "                    values[values[i+3]] = 0\n",
    "            i += 4\n",
    "        elif opcode == 8:\n",
    "            val1 = get_param(values, i, 1, modes)\n",
    "            val2 = get_param(values, i, 2, modes)\n",
    "            if modes[2] == 0:\n",
    "                if val1 == val2:\n",
    "                    values[values[i+3]] = 1\n",
    "                else:\n",
    "                    values[values[i+3]] = 0\n",
    "            i += 4\n",
    "\n",
    "    return"
   ]
  },
  {
   "cell_type": "code",
   "execution_count": null,
   "metadata": {},
   "outputs": [],
   "source": []
  },
  {
   "cell_type": "code",
   "execution_count": null,
   "metadata": {},
   "outputs": [],
   "source": []
  },
  {
   "cell_type": "markdown",
   "metadata": {},
   "source": [
    "### Part 1"
   ]
  },
  {
   "cell_type": "code",
   "execution_count": 4,
   "metadata": {},
   "outputs": [],
   "source": [
    "def test_max_thruster(f):\n",
    "    assert f([3,15,3,16,1002,16,10,16,1,16,15,15,4,15,99,0,0]) == 43210\n",
    "    assert f([3,23,3,24,1002,24,10,24,1002,23,-1,23,101,5,23,23,1,24,23,23,4,23,99,0,0]) == 54321\n",
    "    assert f([\n",
    "        3,31,3,32,1002,32,10,32,1001,31,-2,31,1007,31,0,33,1002,33,7,33,1,33,31,31,1,32,31,31,4,31,99,0,0,0\n",
    "    ]) == 65210"
   ]
  },
  {
   "cell_type": "code",
   "execution_count": 65,
   "metadata": {},
   "outputs": [],
   "source": [
    "def calc_thruster(intcode, sequence):\n",
    "    thrust = 0\n",
    "    for s in sequence:\n",
    "        output = run_intcode(intcode, input_nums=[s, thrust])\n",
    "        thrust = output[0]\n",
    "    return thrust"
   ]
  },
  {
   "cell_type": "code",
   "execution_count": 5,
   "metadata": {},
   "outputs": [],
   "source": [
    "intcode = [3,15,3,16,1002,16,10,16,1,16,15,15,4,15,99,0,0]"
   ]
  },
  {
   "cell_type": "code",
   "execution_count": 31,
   "metadata": {},
   "outputs": [],
   "source": [
    "def calc_thruster(intcode, sequence):\n",
    "    amps = []\n",
    "    for i in range(5):\n",
    "        amps.append(run_intcode(intcode))\n",
    "        amps[i].send(None)\n",
    "        amps[i].send(sequence[i])\n",
    "\n",
    "    thrust = 0\n",
    "    for i in range(5):\n",
    "        thrust = amps[i].send(thrust)\n",
    "\n",
    "    return thrust"
   ]
  },
  {
   "cell_type": "code",
   "execution_count": 32,
   "metadata": {},
   "outputs": [],
   "source": [
    "from itertools import permutations\n",
    "\n",
    "def get_max_thrust(intcode):\n",
    "    seqs = permutations(range(5))\n",
    "\n",
    "    return max(calc_thruster(intcode, sequence) for sequence in seqs)\n",
    "    \n",
    "#     max_thrust = 0\n",
    "#     max_thrust_sequence = None\n",
    "#     for sequence in seqs:\n",
    "#         thrust = calc_thruster(intcode, sequence)\n",
    "#         if thrust > max_thrust:\n",
    "#             max_thrust = thrust\n",
    "#             max_thrust_sequence = sequence\n",
    "#     print(max_thrust_sequence)\n",
    "#     return max_thrust"
   ]
  },
  {
   "cell_type": "code",
   "execution_count": 33,
   "metadata": {},
   "outputs": [],
   "source": [
    "test_max_thruster(get_max_thrust)"
   ]
  },
  {
   "cell_type": "code",
   "execution_count": null,
   "metadata": {},
   "outputs": [],
   "source": []
  },
  {
   "cell_type": "code",
   "execution_count": null,
   "metadata": {},
   "outputs": [],
   "source": []
  },
  {
   "cell_type": "code",
   "execution_count": null,
   "metadata": {},
   "outputs": [],
   "source": []
  },
  {
   "cell_type": "code",
   "execution_count": 36,
   "metadata": {},
   "outputs": [],
   "source": [
    "input_file = 'input/input_day09.txt'\n",
    "with open(input_file, 'r') as fin:\n",
    "    data = fin.readline().strip()\n",
    "    data = [int(u) for u in data.split(',')]"
   ]
  },
  {
   "cell_type": "code",
   "execution_count": null,
   "metadata": {},
   "outputs": [],
   "source": []
  },
  {
   "cell_type": "code",
   "execution_count": null,
   "metadata": {},
   "outputs": [],
   "source": []
  },
  {
   "cell_type": "markdown",
   "metadata": {},
   "source": [
    "### Part 2"
   ]
  },
  {
   "cell_type": "code",
   "execution_count": null,
   "metadata": {},
   "outputs": [],
   "source": []
  }
 ],
 "metadata": {
  "kernelspec": {
   "display_name": "Python 3",
   "language": "python",
   "name": "python3"
  },
  "language_info": {
   "codemirror_mode": {
    "name": "ipython",
    "version": 3
   },
   "file_extension": ".py",
   "mimetype": "text/x-python",
   "name": "python",
   "nbconvert_exporter": "python",
   "pygments_lexer": "ipython3",
   "version": "3.6.8"
  },
  "toc": {
   "base_numbering": 1,
   "nav_menu": {},
   "number_sections": false,
   "sideBar": true,
   "skip_h1_title": false,
   "title_cell": "Table of Contents",
   "title_sidebar": "Contents",
   "toc_cell": true,
   "toc_position": {},
   "toc_section_display": true,
   "toc_window_display": true
  }
 },
 "nbformat": 4,
 "nbformat_minor": 2
}
