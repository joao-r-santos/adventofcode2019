{
 "cells": [
  {
   "cell_type": "markdown",
   "metadata": {
    "toc": true
   },
   "source": [
    "<h1>Table of Contents<span class=\"tocSkip\"></span></h1>\n",
    "<div class=\"toc\"><ul class=\"toc-item\"><li><span><a href=\"#Advent-of-code-2019\" data-toc-modified-id=\"Advent-of-code-2019-1\">Advent of code 2019</a></span><ul class=\"toc-item\"><li><span><a href=\"#Day-2\" data-toc-modified-id=\"Day-2-1.1\">Day 2</a></span><ul class=\"toc-item\"><li><span><a href=\"#Part-1\" data-toc-modified-id=\"Part-1-1.1.1\">Part 1</a></span></li><li><span><a href=\"#Part-2\" data-toc-modified-id=\"Part-2-1.1.2\">Part 2</a></span></li></ul></li></ul></li></ul></div>"
   ]
  },
  {
   "cell_type": "markdown",
   "metadata": {},
   "source": [
    "# Advent of code 2019"
   ]
  },
  {
   "cell_type": "markdown",
   "metadata": {},
   "source": [
    "https://adventofcode.com/2019"
   ]
  },
  {
   "cell_type": "markdown",
   "metadata": {},
   "source": [
    "## Day 2"
   ]
  },
  {
   "cell_type": "markdown",
   "metadata": {},
   "source": [
    "### Part 1"
   ]
  },
  {
   "cell_type": "markdown",
   "metadata": {},
   "source": [
    "Intcode program"
   ]
  },
  {
   "cell_type": "code",
   "execution_count": 79,
   "metadata": {},
   "outputs": [],
   "source": [
    "def test_intcode(f):\n",
    "    assert f([1,0,0,0,99]) == [2,0,0,0,99]\n",
    "    assert f([2,3,0,3,99]) == [2,3,0,6,99]\n",
    "    assert f([2,4,4,5,99,0]) == [2,4,4,5,99,9801]\n",
    "    assert f([1,1,1,4,99,5,6,0,99]) == [30,1,1,4,2,5,6,0,99]\n",
    "    assert f([1,9,10,3,2,3,11,0,99,30,40,50]) == [3500,9,10,70,2,3,11,0,99,30,40,50]"
   ]
  },
  {
   "cell_type": "code",
   "execution_count": 80,
   "metadata": {},
   "outputs": [],
   "source": [
    "def run_intcode(array):\n",
    "    values = array[:]\n",
    "    i = 0\n",
    "    N = len(values)\n",
    "    while i < N:\n",
    "        if values[i] == 99:\n",
    "            return values\n",
    "        elif values[i] == 1:\n",
    "            values[values[i+3]] = values[values[i+1]] + values[values[i+2]]\n",
    "            i += 4\n",
    "        elif values[i] == 2:\n",
    "            values[values[i+3]] = values[values[i+1]] * values[values[i+2]]\n",
    "            i += 4\n",
    "        else:\n",
    "            return \"Error: {} is wrong opcode.\".format(values[i])\n",
    "    return \"Error: program has no end opcode.\""
   ]
  },
  {
   "cell_type": "code",
   "execution_count": 81,
   "metadata": {},
   "outputs": [],
   "source": [
    "test_intcode(run_intcode)"
   ]
  },
  {
   "cell_type": "code",
   "execution_count": 94,
   "metadata": {},
   "outputs": [],
   "source": [
    "input_file = 'input/input_day02.txt'\n",
    "with open(input_file, 'r') as fin:\n",
    "    data = fin.readline().strip()\n",
    "    data = [int(u) for u in data.split(',')]"
   ]
  },
  {
   "cell_type": "code",
   "execution_count": 86,
   "metadata": {},
   "outputs": [],
   "source": [
    "data[1] = 12\n",
    "data[2] = 2"
   ]
  },
  {
   "cell_type": "code",
   "execution_count": 90,
   "metadata": {},
   "outputs": [
    {
     "data": {
      "text/plain": [
       "[8017076, 12, 2, 2]"
      ]
     },
     "execution_count": 90,
     "metadata": {},
     "output_type": "execute_result"
    }
   ],
   "source": [
    "run_intcode(data)[:4]"
   ]
  },
  {
   "cell_type": "markdown",
   "metadata": {},
   "source": [
    "### Part 2"
   ]
  },
  {
   "cell_type": "markdown",
   "metadata": {},
   "source": [
    "What are the numbers in position 1 and 2 that result in 19690720?"
   ]
  },
  {
   "cell_type": "code",
   "execution_count": 92,
   "metadata": {},
   "outputs": [],
   "source": [
    "def test_noun_verb(data, noun, verb):\n",
    "    values = data[:]\n",
    "    values[1] = noun\n",
    "    values[2] = verb\n",
    "    values = run_intcode(values)\n",
    "    return values[0]"
   ]
  },
  {
   "cell_type": "code",
   "execution_count": 96,
   "metadata": {},
   "outputs": [
    {
     "data": {
      "text/plain": [
       "8017076"
      ]
     },
     "execution_count": 96,
     "metadata": {},
     "output_type": "execute_result"
    }
   ],
   "source": [
    "test_noun_verb(data, 12, 2)"
   ]
  },
  {
   "cell_type": "code",
   "execution_count": 103,
   "metadata": {},
   "outputs": [],
   "source": [
    "def run_test_noun_verb(data, value):\n",
    "    N = len(data)\n",
    "    for noun in range(0, N):\n",
    "        for verb in range(0, N):\n",
    "            if test_noun_verb(data, noun, verb) == value:\n",
    "                return (noun, verb)"
   ]
  },
  {
   "cell_type": "code",
   "execution_count": 104,
   "metadata": {},
   "outputs": [
    {
     "data": {
      "text/plain": [
       "(31, 46)"
      ]
     },
     "execution_count": 104,
     "metadata": {},
     "output_type": "execute_result"
    }
   ],
   "source": [
    "run_test_noun_verb(data, 19690720)"
   ]
  }
 ],
 "metadata": {
  "kernelspec": {
   "display_name": "Python 3",
   "language": "python",
   "name": "python3"
  },
  "language_info": {
   "codemirror_mode": {
    "name": "ipython",
    "version": 3
   },
   "file_extension": ".py",
   "mimetype": "text/x-python",
   "name": "python",
   "nbconvert_exporter": "python",
   "pygments_lexer": "ipython3",
   "version": "3.6.8"
  },
  "toc": {
   "base_numbering": 1,
   "nav_menu": {},
   "number_sections": false,
   "sideBar": true,
   "skip_h1_title": false,
   "title_cell": "Table of Contents",
   "title_sidebar": "Contents",
   "toc_cell": true,
   "toc_position": {},
   "toc_section_display": true,
   "toc_window_display": true
  }
 },
 "nbformat": 4,
 "nbformat_minor": 2
}
