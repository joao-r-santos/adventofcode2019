{
 "cells": [
  {
   "cell_type": "markdown",
   "metadata": {},
   "source": [
    "# Advent of code 2019"
   ]
  },
  {
   "cell_type": "markdown",
   "metadata": {},
   "source": [
    "https://adventofcode.com/2019"
   ]
  },
  {
   "cell_type": "markdown",
   "metadata": {},
   "source": [
    "## Day 1"
   ]
  },
  {
   "cell_type": "markdown",
   "metadata": {},
   "source": [
    "### Part 1"
   ]
  },
  {
   "cell_type": "markdown",
   "metadata": {},
   "source": [
    "the fuel required for a module = take its mass, divide by three, round down, and subtract 2"
   ]
  },
  {
   "cell_type": "code",
   "execution_count": 7,
   "metadata": {},
   "outputs": [],
   "source": [
    "def test_fuel(f):\n",
    "    assert f(12) == 2\n",
    "    assert f(14) == 2\n",
    "    assert f(1969) == 654\n",
    "    assert f(100756) == 33583"
   ]
  },
  {
   "cell_type": "code",
   "execution_count": 8,
   "metadata": {},
   "outputs": [],
   "source": [
    "from math import floor\n",
    "\n",
    "def find_fuel(mass):\n",
    "    fuel = floor(mass/3) - 2\n",
    "    return max(fuel, 0)"
   ]
  },
  {
   "cell_type": "code",
   "execution_count": 9,
   "metadata": {},
   "outputs": [],
   "source": [
    "test_fuel(find_fuel)"
   ]
  },
  {
   "cell_type": "markdown",
   "metadata": {},
   "source": [
    "input data"
   ]
  },
  {
   "cell_type": "code",
   "execution_count": 10,
   "metadata": {},
   "outputs": [],
   "source": [
    "input_file = 'input/input_day01.txt'\n",
    "with open(input_file, 'r') as fin:\n",
    "    data = [int(u.strip()) for u in fin.readlines()]"
   ]
  },
  {
   "cell_type": "code",
   "execution_count": 11,
   "metadata": {},
   "outputs": [
    {
     "data": {
      "text/plain": [
       "3363033"
      ]
     },
     "execution_count": 11,
     "metadata": {},
     "output_type": "execute_result"
    }
   ],
   "source": [
    "total_fuel = sum([find_fuel(u) for u in data])\n",
    "total_fuel"
   ]
  },
  {
   "cell_type": "markdown",
   "metadata": {},
   "source": [
    "### Part 2"
   ]
  },
  {
   "cell_type": "markdown",
   "metadata": {},
   "source": [
    "include additional fuel for the fuel you just added"
   ]
  },
  {
   "cell_type": "code",
   "execution_count": 13,
   "metadata": {},
   "outputs": [],
   "source": [
    "def test_fuel(f):\n",
    "    assert f(12) == 2\n",
    "    assert f(1969) == 966\n",
    "    assert f(100756) == 50346"
   ]
  },
  {
   "cell_type": "code",
   "execution_count": 14,
   "metadata": {},
   "outputs": [],
   "source": [
    "def find_correct_fuel(mass):\n",
    "    add_fuel = find_fuel(mass)\n",
    "        \n",
    "    new_mass = mass\n",
    "    while add_fuel > 0:\n",
    "        # print(add_fuel)\n",
    "        new_mass += add_fuel\n",
    "        add_fuel = find_fuel(add_fuel)\n",
    "       \n",
    "    return new_mass - mass"
   ]
  },
  {
   "cell_type": "code",
   "execution_count": 15,
   "metadata": {},
   "outputs": [],
   "source": [
    "test_fuel(find_correct_fuel)"
   ]
  },
  {
   "cell_type": "code",
   "execution_count": 16,
   "metadata": {},
   "outputs": [
    {
     "data": {
      "text/plain": [
       "5041680"
      ]
     },
     "execution_count": 16,
     "metadata": {},
     "output_type": "execute_result"
    }
   ],
   "source": [
    "total_fuel = sum([find_correct_fuel(u) for u in data])\n",
    "total_fuel"
   ]
  },
  {
   "cell_type": "markdown",
   "metadata": {},
   "source": [
    "## Day 2"
   ]
  },
  {
   "cell_type": "markdown",
   "metadata": {},
   "source": [
    "### Part 1"
   ]
  },
  {
   "cell_type": "markdown",
   "metadata": {},
   "source": [
    "Intcode program"
   ]
  },
  {
   "cell_type": "code",
   "execution_count": 79,
   "metadata": {},
   "outputs": [],
   "source": [
    "def test_intcode(f):\n",
    "    assert f([1,0,0,0,99]) == [2,0,0,0,99]\n",
    "    assert f([2,3,0,3,99]) == [2,3,0,6,99]\n",
    "    assert f([2,4,4,5,99,0]) == [2,4,4,5,99,9801]\n",
    "    assert f([1,1,1,4,99,5,6,0,99]) == [30,1,1,4,2,5,6,0,99]\n",
    "    assert f([1,9,10,3,2,3,11,0,99,30,40,50]) == [3500,9,10,70,2,3,11,0,99,30,40,50]"
   ]
  },
  {
   "cell_type": "code",
   "execution_count": 80,
   "metadata": {},
   "outputs": [],
   "source": [
    "def run_intcode(array):\n",
    "    values = array[:]\n",
    "    i = 0\n",
    "    N = len(values)\n",
    "    while i < N:\n",
    "        if values[i] == 99:\n",
    "            return values\n",
    "        elif values[i] == 1:\n",
    "            values[values[i+3]] = values[values[i+1]] + values[values[i+2]]\n",
    "            i += 4\n",
    "        elif values[i] == 2:\n",
    "            values[values[i+3]] = values[values[i+1]] * values[values[i+2]]\n",
    "            i += 4\n",
    "        else:\n",
    "            return \"Error: {} is wrong opcode.\".format(values[i])\n",
    "    return \"Error: program has no end opcode.\""
   ]
  },
  {
   "cell_type": "code",
   "execution_count": 81,
   "metadata": {},
   "outputs": [],
   "source": [
    "test_intcode(run_intcode)"
   ]
  },
  {
   "cell_type": "code",
   "execution_count": 94,
   "metadata": {},
   "outputs": [],
   "source": [
    "input_file = 'input/input_day02.txt'\n",
    "with open(input_file, 'r') as fin:\n",
    "    data = fin.readline().strip()\n",
    "    data = [int(u) for u in data.split(',')]"
   ]
  },
  {
   "cell_type": "code",
   "execution_count": 86,
   "metadata": {},
   "outputs": [],
   "source": [
    "data[1] = 12\n",
    "data[2] = 2"
   ]
  },
  {
   "cell_type": "code",
   "execution_count": 90,
   "metadata": {},
   "outputs": [
    {
     "data": {
      "text/plain": [
       "[8017076, 12, 2, 2]"
      ]
     },
     "execution_count": 90,
     "metadata": {},
     "output_type": "execute_result"
    }
   ],
   "source": [
    "run_intcode(data)[:4]"
   ]
  },
  {
   "cell_type": "markdown",
   "metadata": {},
   "source": [
    "### Part 2"
   ]
  },
  {
   "cell_type": "markdown",
   "metadata": {},
   "source": [
    "What are the numbers in position 1 and 2 that result in 19690720?"
   ]
  },
  {
   "cell_type": "code",
   "execution_count": 92,
   "metadata": {},
   "outputs": [],
   "source": [
    "def test_noun_verb(data, noun, verb):\n",
    "    values = data[:]\n",
    "    values[1] = noun\n",
    "    values[2] = verb\n",
    "    values = run_intcode(values)\n",
    "    return values[0]"
   ]
  },
  {
   "cell_type": "code",
   "execution_count": 96,
   "metadata": {},
   "outputs": [
    {
     "data": {
      "text/plain": [
       "8017076"
      ]
     },
     "execution_count": 96,
     "metadata": {},
     "output_type": "execute_result"
    }
   ],
   "source": [
    "test_noun_verb(data, 12, 2)"
   ]
  },
  {
   "cell_type": "code",
   "execution_count": 103,
   "metadata": {},
   "outputs": [],
   "source": [
    "def run_test_noun_verb(data, value):\n",
    "    N = len(data)\n",
    "    for noun in range(0, N):\n",
    "        for verb in range(0, N):\n",
    "            if test_noun_verb(data, noun, verb) == value:\n",
    "                return (noun, verb)"
   ]
  },
  {
   "cell_type": "code",
   "execution_count": 104,
   "metadata": {},
   "outputs": [
    {
     "data": {
      "text/plain": [
       "(31, 46)"
      ]
     },
     "execution_count": 104,
     "metadata": {},
     "output_type": "execute_result"
    }
   ],
   "source": [
    "run_test_noun_verb(data, 19690720)"
   ]
  }
 ],
 "metadata": {
  "kernelspec": {
   "display_name": "python3",
   "language": "python",
   "name": "python3"
  },
  "language_info": {
   "codemirror_mode": {
    "name": "ipython",
    "version": 3
   },
   "file_extension": ".py",
   "mimetype": "text/x-python",
   "name": "python",
   "nbconvert_exporter": "python",
   "pygments_lexer": "ipython3",
   "version": "3.6.7"
  }
 },
 "nbformat": 4,
 "nbformat_minor": 2
}
