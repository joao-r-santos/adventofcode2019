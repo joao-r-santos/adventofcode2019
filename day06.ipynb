{
 "cells": [
  {
   "cell_type": "markdown",
   "metadata": {
    "toc": true
   },
   "source": [
    "<h1>Table of Contents<span class=\"tocSkip\"></span></h1>\n",
    "<div class=\"toc\"><ul class=\"toc-item\"><li><span><a href=\"#Advent-of-code-2019\" data-toc-modified-id=\"Advent-of-code-2019-1\">Advent of code 2019</a></span><ul class=\"toc-item\"><li><span><a href=\"#Day-6\" data-toc-modified-id=\"Day-6-1.1\">Day 6</a></span><ul class=\"toc-item\"><li><span><a href=\"#Part-1\" data-toc-modified-id=\"Part-1-1.1.1\">Part 1</a></span></li><li><span><a href=\"#Part-2\" data-toc-modified-id=\"Part-2-1.1.2\">Part 2</a></span></li></ul></li></ul></li></ul></div>"
   ]
  },
  {
   "cell_type": "markdown",
   "metadata": {},
   "source": [
    "# Advent of code 2019"
   ]
  },
  {
   "cell_type": "markdown",
   "metadata": {},
   "source": [
    "https://adventofcode.com/2019"
   ]
  },
  {
   "cell_type": "markdown",
   "metadata": {},
   "source": [
    "## Day 6"
   ]
  },
  {
   "cell_type": "markdown",
   "metadata": {},
   "source": [
    "### Part 1"
   ]
  },
  {
   "cell_type": "markdown",
   "metadata": {},
   "source": [
    "Orbits and indirect orbits"
   ]
  },
  {
   "cell_type": "code",
   "execution_count": 38,
   "metadata": {},
   "outputs": [],
   "source": [
    "def test_count_orbits(f):\n",
    "    assert f([\"COM)B\", \"B)C\", \"C)D\", \"D)E\", \"E)F\", \"B)G\", \"G)H\", \"D)I\", \"E)J\", \"J)K\", \"K)L\"]) == 42"
   ]
  },
  {
   "cell_type": "code",
   "execution_count": 39,
   "metadata": {},
   "outputs": [],
   "source": [
    "def read_orbit(orbit):\n",
    "    values = orbit.split(\")\")\n",
    "    return values[0], values[1]\n",
    "\n",
    "def build_orbits(data):\n",
    "    objs = {}\n",
    "    \n",
    "    for orbit in data:\n",
    "        inside, outside = read_orbit(orbit)\n",
    "        objs[outside] = inside\n",
    "\n",
    "    return objs\n",
    "\n",
    "def count_orbits(data):\n",
    "    orbits = build_orbits(data)\n",
    "    \n",
    "    cnt = 0\n",
    "    for k in orbits.keys():\n",
    "        cnt += 1\n",
    "        obj = orbits[k]\n",
    "        while obj != \"COM\":\n",
    "            obj = orbits[obj]\n",
    "            cnt += 1\n",
    "\n",
    "    return cnt"
   ]
  },
  {
   "cell_type": "code",
   "execution_count": 40,
   "metadata": {},
   "outputs": [],
   "source": [
    "test_count_orbits(count_orbits)"
   ]
  },
  {
   "cell_type": "code",
   "execution_count": 41,
   "metadata": {},
   "outputs": [],
   "source": [
    "input_file = 'input/input_day06.txt'\n",
    "with open(input_file, 'r') as fin:\n",
    "    data = [u.strip() for u in fin.readlines()]"
   ]
  },
  {
   "cell_type": "code",
   "execution_count": 43,
   "metadata": {},
   "outputs": [
    {
     "data": {
      "text/plain": [
       "402879"
      ]
     },
     "execution_count": 43,
     "metadata": {},
     "output_type": "execute_result"
    }
   ],
   "source": [
    "count_orbits(data)"
   ]
  },
  {
   "cell_type": "markdown",
   "metadata": {},
   "source": [
    "### Part 2"
   ]
  },
  {
   "cell_type": "code",
   "execution_count": 44,
   "metadata": {},
   "outputs": [],
   "source": [
    "def test_jump_orbits(f):\n",
    "    assert f([\"COM)B\", \"B)C\", \"C)D\", \"D)E\", \"E)F\", \"B)G\", \"G)H\", \"D)I\", \"E)J\", \"J)K\", \"K)L\", \"K)YOU\", \"I)SAN\"]) == 4"
   ]
  },
  {
   "cell_type": "code",
   "execution_count": 46,
   "metadata": {},
   "outputs": [],
   "source": [
    "orbits = build_orbits([\"COM)B\", \"B)C\", \"C)D\", \"D)E\", \"E)F\", \"B)G\", \"G)H\", \"D)I\", \"E)J\", \"J)K\", \"K)L\", \"K)YOU\", \"I)SAN\"])"
   ]
  },
  {
   "cell_type": "code",
   "execution_count": 68,
   "metadata": {},
   "outputs": [],
   "source": [
    "def count_jump_orbits(data):\n",
    "    orbits = build_orbits(data)\n",
    "    \n",
    "    obj = orbits[\"YOU\"]\n",
    "    path_you = [obj]\n",
    "    while obj != \"COM\":\n",
    "        obj = orbits[obj]\n",
    "        path_you.append(obj)\n",
    "\n",
    "    obj = orbits[\"SAN\"]\n",
    "    path_san = [obj]\n",
    "    while obj != \"COM\":\n",
    "        obj = orbits[obj]\n",
    "        path_san.append(obj)\n",
    "\n",
    "    while path_you[-1] == path_san[-1]:\n",
    "        path_you.pop(-1)\n",
    "        path_san.pop(-1)\n",
    "\n",
    "    return len(path_you) + len(path_san)"
   ]
  },
  {
   "cell_type": "code",
   "execution_count": 69,
   "metadata": {},
   "outputs": [],
   "source": [
    "test_jump_orbits(count_jump_orbits)"
   ]
  },
  {
   "cell_type": "code",
   "execution_count": 70,
   "metadata": {},
   "outputs": [
    {
     "data": {
      "text/plain": [
       "484"
      ]
     },
     "execution_count": 70,
     "metadata": {},
     "output_type": "execute_result"
    }
   ],
   "source": [
    "count_jump_orbits(data)"
   ]
  }
 ],
 "metadata": {
  "kernelspec": {
   "display_name": "Python 3",
   "language": "python",
   "name": "python3"
  },
  "language_info": {
   "codemirror_mode": {
    "name": "ipython",
    "version": 3
   },
   "file_extension": ".py",
   "mimetype": "text/x-python",
   "name": "python",
   "nbconvert_exporter": "python",
   "pygments_lexer": "ipython3",
   "version": "3.6.8"
  },
  "toc": {
   "base_numbering": 1,
   "nav_menu": {},
   "number_sections": false,
   "sideBar": true,
   "skip_h1_title": false,
   "title_cell": "Table of Contents",
   "title_sidebar": "Contents",
   "toc_cell": true,
   "toc_position": {},
   "toc_section_display": true,
   "toc_window_display": true
  }
 },
 "nbformat": 4,
 "nbformat_minor": 2
}
