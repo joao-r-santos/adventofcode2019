{
 "cells": [
  {
   "cell_type": "markdown",
   "metadata": {
    "toc": true
   },
   "source": [
    "<h1>Table of Contents<span class=\"tocSkip\"></span></h1>\n",
    "<div class=\"toc\"><ul class=\"toc-item\"><li><span><a href=\"#Advent-of-code-2019\" data-toc-modified-id=\"Advent-of-code-2019-1\">Advent of code 2019</a></span><ul class=\"toc-item\"><li><span><a href=\"#Day-10\" data-toc-modified-id=\"Day-10-1.1\">Day 10</a></span><ul class=\"toc-item\"><li><span><a href=\"#Part-1\" data-toc-modified-id=\"Part-1-1.1.1\">Part 1</a></span></li><li><span><a href=\"#Part-2\" data-toc-modified-id=\"Part-2-1.1.2\">Part 2</a></span></li></ul></li></ul></li></ul></div>"
   ]
  },
  {
   "cell_type": "markdown",
   "metadata": {},
   "source": [
    "# Advent of code 2019"
   ]
  },
  {
   "cell_type": "markdown",
   "metadata": {},
   "source": [
    "https://adventofcode.com/2019"
   ]
  },
  {
   "cell_type": "markdown",
   "metadata": {},
   "source": [
    "## Day 10"
   ]
  },
  {
   "cell_type": "markdown",
   "metadata": {},
   "source": [
    "### Part 1"
   ]
  },
  {
   "cell_type": "code",
   "execution_count": 1,
   "metadata": {
    "ExecuteTime": {
     "end_time": "2019-12-21T01:51:40.170273Z",
     "start_time": "2019-12-21T01:51:40.164845Z"
    }
   },
   "outputs": [],
   "source": [
    "def test_max_in_sight(f):\n",
    "    assert f((\n",
    "\"\"\"\n",
    ".#..#\n",
    ".....\n",
    "#####\n",
    "....#\n",
    "...##\n",
    "\"\"\").strip('\\n')) == 8\n",
    "    assert f((\n",
    "\"\"\"\n",
    "......#.#.\n",
    "#..#.#....\n",
    "..#######.\n",
    ".#.#.###..\n",
    ".#..#.....\n",
    "..#....#.#\n",
    "#..#....#.\n",
    ".##.#..###\n",
    "##...#..#.\n",
    ".#....####\n",
    "\"\"\").strip('\\n')) == 33\n",
    "    assert f((\n",
    "\"\"\"\n",
    "#.#...#.#.\n",
    ".###....#.\n",
    ".#....#...\n",
    "##.#.#.#.#\n",
    "....#.#.#.\n",
    ".##..###.#\n",
    "..#...##..\n",
    "..##....##\n",
    "......#...\n",
    ".####.###.\n",
    "\"\"\").strip('\\n')) == 35\n",
    "    assert f((\n",
    "\"\"\"\n",
    ".#..#..###\n",
    "####.###.#\n",
    "....###.#.\n",
    "..###.##.#\n",
    "##.##.#.#.\n",
    "....###..#\n",
    "..#.#..#.#\n",
    "#..#.#.###\n",
    ".##...##.#\n",
    ".....#.#..\n",
    "\"\"\").strip('\\n')) == 41\n",
    "    assert f((\n",
    "\"\"\"\n",
    ".#..##.###...#######\n",
    "##.############..##.\n",
    ".#.######.########.#\n",
    ".###.#######.####.#.\n",
    "#####.##.#.##.###.##\n",
    "..#####..#.#########\n",
    "####################\n",
    "#.####....###.#.#.##\n",
    "##.#################\n",
    "#####.##.###..####..\n",
    "..######..##.#######\n",
    "####.##.####...##..#\n",
    ".#####..#.######.###\n",
    "##...#.##########...\n",
    "#.##########.#######\n",
    ".####.#.###.###.#.##\n",
    "....##.##.###..#####\n",
    ".#.#.###########.###\n",
    "#.#.#.#####.####.###\n",
    "###.##.####.##.#..##\n",
    "\"\"\").strip('\\n')) == 210"
   ]
  },
  {
   "cell_type": "code",
   "execution_count": 2,
   "metadata": {
    "ExecuteTime": {
     "end_time": "2019-12-21T01:51:40.983550Z",
     "start_time": "2019-12-21T01:51:40.979801Z"
    }
   },
   "outputs": [],
   "source": [
    "def get_asteroid_pts(asteroid_map):\n",
    "    asteroid_pts = []\n",
    "    for i, row in enumerate(asteroid_map.split('\\n')):\n",
    "        asteroid_pts.extend([(j, i) for j, u in enumerate(row) if u == '#'])\n",
    "    return asteroid_pts    "
   ]
  },
  {
   "cell_type": "code",
   "execution_count": 3,
   "metadata": {
    "ExecuteTime": {
     "end_time": "2019-12-21T01:51:41.878158Z",
     "start_time": "2019-12-21T01:51:41.773081Z"
    }
   },
   "outputs": [],
   "source": [
    "def calc_vector(pt1, pt2):\n",
    "    return pt2[0] - pt1[0], pt2[1] - pt1[1]\n",
    "\n",
    "from numpy import gcd\n",
    "def reduce_vector(a, b):\n",
    "    d = gcd(a, b)\n",
    "    return a//d, b//d\n",
    "\n",
    "def calc_vectors_in_sight(asteroid_pts):\n",
    "    N = len(asteroid_pts)\n",
    "\n",
    "    vectors = [set() for _ in range(N)]\n",
    "    for i in range(N):\n",
    "        for j in range(i+1, N):\n",
    "            a, b = calc_vector(asteroid_pts[i], asteroid_pts[j])\n",
    "            a, b = reduce_vector(a, b)\n",
    "            vectors[i].add((a, b))\n",
    "            vectors[j].add((-a, -b))\n",
    "    \n",
    "    return vectors"
   ]
  },
  {
   "cell_type": "code",
   "execution_count": 4,
   "metadata": {
    "ExecuteTime": {
     "end_time": "2019-12-21T01:51:42.383464Z",
     "start_time": "2019-12-21T01:51:42.379353Z"
    }
   },
   "outputs": [],
   "source": [
    "def get_max_in_sight(asteroid_pts):\n",
    "    vectors = calc_vectors_in_sight(asteroid_pts)\n",
    "    \n",
    "    num_in_sight = [len(u) for u in vectors]\n",
    "    max_num_in_sight = max(num_in_sight)\n",
    "    # print(asteroid_pts[num_in_sight.index(max_num_in_sight)])\n",
    "    \n",
    "    return max_num_in_sight\n",
    "\n",
    "def get_max_in_sight_from_map(asteroid_map):\n",
    "    return get_max_in_sight(get_asteroid_pts(asteroid_map))"
   ]
  },
  {
   "cell_type": "code",
   "execution_count": 5,
   "metadata": {
    "ExecuteTime": {
     "end_time": "2019-12-21T01:51:43.097190Z",
     "start_time": "2019-12-21T01:51:42.930370Z"
    }
   },
   "outputs": [],
   "source": [
    "test_max_in_sight(get_max_in_sight_from_map)"
   ]
  },
  {
   "cell_type": "code",
   "execution_count": 7,
   "metadata": {
    "ExecuteTime": {
     "end_time": "2019-12-21T01:51:51.513895Z",
     "start_time": "2019-12-21T01:51:51.510579Z"
    }
   },
   "outputs": [],
   "source": [
    "input_file = 'input/input_day10.txt'\n",
    "with open(input_file, 'r') as fin:\n",
    "    data_map = fin.read()"
   ]
  },
  {
   "cell_type": "code",
   "execution_count": 8,
   "metadata": {
    "ExecuteTime": {
     "end_time": "2019-12-21T01:51:56.555566Z",
     "start_time": "2019-12-21T01:51:56.311712Z"
    }
   },
   "outputs": [
    {
     "data": {
      "text/plain": [
       "347"
      ]
     },
     "execution_count": 8,
     "metadata": {},
     "output_type": "execute_result"
    }
   ],
   "source": [
    "get_max_in_sight_from_map(data_map)"
   ]
  },
  {
   "cell_type": "markdown",
   "metadata": {},
   "source": [
    "### Part 2"
   ]
  },
  {
   "cell_type": "code",
   "execution_count": 9,
   "metadata": {
    "ExecuteTime": {
     "end_time": "2019-12-21T01:51:57.563849Z",
     "start_time": "2019-12-21T01:51:57.560688Z"
    }
   },
   "outputs": [],
   "source": [
    "def test_200_asteroid(f):\n",
    "    assert f((\n",
    "\"\"\"\n",
    ".#..##.###...#######\n",
    "##.############..##.\n",
    ".#.######.########.#\n",
    ".###.#######.####.#.\n",
    "#####.##.#.##.###.##\n",
    "..#####..#.#########\n",
    "####################\n",
    "#.####....###.#.#.##\n",
    "##.#################\n",
    "#####.##.###..####..\n",
    "..######..##.#######\n",
    "####.##.####...##..#\n",
    ".#####..#.######.###\n",
    "##...#.##########...\n",
    "#.##########.#######\n",
    ".####.#.###.###.#.##\n",
    "....##.##.###..#####\n",
    ".#.#.###########.###\n",
    "#.#.#.#####.####.###\n",
    "###.##.####.##.#..##\n",
    "\"\"\").strip('\\n')) == (8, 2)"
   ]
  },
  {
   "cell_type": "code",
   "execution_count": 10,
   "metadata": {
    "ExecuteTime": {
     "end_time": "2019-12-21T01:51:58.682894Z",
     "start_time": "2019-12-21T01:51:58.678129Z"
    }
   },
   "outputs": [],
   "source": [
    "def get_best_asteroid(asteroid_pts):\n",
    "    vectors = calc_vectors_in_sight(asteroid_pts)\n",
    "    \n",
    "    num_in_sight = [len(u) for u in vectors]\n",
    "    max_num_in_sight = max(num_in_sight)\n",
    "    return asteroid_pts[num_in_sight.index(max_num_in_sight)]\n",
    "\n",
    "def get_relative_vectors(asteroid_pts):\n",
    "    best_pt = get_best_asteroid(asteroid_pts)\n",
    "    return [(pos[0] - best_pt[0], -pos[1] + best_pt[1]) for pos in asteroid_pts if pos != best_pt]"
   ]
  },
  {
   "cell_type": "code",
   "execution_count": 11,
   "metadata": {
    "ExecuteTime": {
     "end_time": "2019-12-21T01:51:59.539857Z",
     "start_time": "2019-12-21T01:51:59.535052Z"
    }
   },
   "outputs": [],
   "source": [
    "from numpy import arctan2, degrees, abs\n",
    "\n",
    "def get_angle(vector):\n",
    "    return (90 - degrees(arctan2(vector[1], vector[0]))) % 360\n",
    "\n",
    "# def get_angles(vectors):\n",
    "#     return [get_angle(vec) for vec in vectors]\n",
    "\n",
    "def shift_angle(angle, shift):\n",
    "    return (angle + shift) % 360\n",
    "\n",
    "def mag_vector(vector):\n",
    "    return abs(vector[0]) + abs(vector[1])"
   ]
  },
  {
   "cell_type": "code",
   "execution_count": 12,
   "metadata": {
    "ExecuteTime": {
     "end_time": "2019-12-21T01:52:01.862730Z",
     "start_time": "2019-12-21T01:52:01.856032Z"
    }
   },
   "outputs": [],
   "source": [
    "def eliminate_asteroid(asteroid_pts):\n",
    "    best_pt = get_best_asteroid(asteroid_pts)\n",
    "    relative_vectors = get_relative_vectors(asteroid_pts)\n",
    "    \n",
    "    dict_angles = {u: get_angle(u) for u in relative_vectors}\n",
    "    dict_mag = {u: mag_vector(u) for u in relative_vectors}\n",
    "    \n",
    "    while dict_angles:\n",
    "        min_angle = min(dict_angles.values())\n",
    "        asteroids_in_sight = [pt for pt, v in dict_angles.items() if v == min_angle]\n",
    "        dists = [dict_mag[u] for u in asteroids_in_sight]\n",
    "\n",
    "        min_dist = min(dists)\n",
    "        asteroid_to_remove = asteroids_in_sight[dists.index(min_dist)]\n",
    "\n",
    "        dict_angles.pop(asteroid_to_remove)\n",
    "\n",
    "        dict_angles = {u: shift_angle(v, -min_angle-0.001) for u, v in dict_angles.items()}\n",
    "        \n",
    "        # print(asteroid_to_remove, get_angle(asteroid_to_remove))\n",
    "        yield (best_pt[0] + asteroid_to_remove[0], best_pt[1] - asteroid_to_remove[1])"
   ]
  },
  {
   "cell_type": "code",
   "execution_count": 13,
   "metadata": {
    "ExecuteTime": {
     "end_time": "2019-12-21T01:52:04.322771Z",
     "start_time": "2019-12-21T01:52:04.319111Z"
    }
   },
   "outputs": [],
   "source": [
    "def clear_asteroid(asteroid_map, num=200):\n",
    "    asteroid_pts = get_asteroid_pts(asteroid_map)\n",
    "\n",
    "    for i, val in enumerate(eliminate_asteroid(asteroid_pts)):\n",
    "        if i == num-1:\n",
    "            return val\n",
    "\n",
    "    return None"
   ]
  },
  {
   "cell_type": "code",
   "execution_count": 14,
   "metadata": {
    "ExecuteTime": {
     "end_time": "2019-12-21T01:52:08.592972Z",
     "start_time": "2019-12-21T01:52:08.303698Z"
    }
   },
   "outputs": [],
   "source": [
    "test_200_asteroid(clear_asteroid)"
   ]
  },
  {
   "cell_type": "code",
   "execution_count": 15,
   "metadata": {
    "ExecuteTime": {
     "end_time": "2019-12-21T01:52:15.870938Z",
     "start_time": "2019-12-21T01:52:15.297973Z"
    }
   },
   "outputs": [
    {
     "data": {
      "text/plain": [
       "(8, 29)"
      ]
     },
     "execution_count": 15,
     "metadata": {},
     "output_type": "execute_result"
    }
   ],
   "source": [
    "clear_asteroid(data_map)"
   ]
  }
 ],
 "metadata": {
  "kernelspec": {
   "display_name": "python3",
   "language": "python",
   "name": "python3"
  },
  "language_info": {
   "codemirror_mode": {
    "name": "ipython",
    "version": 3
   },
   "file_extension": ".py",
   "mimetype": "text/x-python",
   "name": "python",
   "nbconvert_exporter": "python",
   "pygments_lexer": "ipython3",
   "version": "3.6.7"
  },
  "toc": {
   "base_numbering": 1,
   "nav_menu": {},
   "number_sections": false,
   "sideBar": true,
   "skip_h1_title": false,
   "title_cell": "Table of Contents",
   "title_sidebar": "Contents",
   "toc_cell": true,
   "toc_position": {},
   "toc_section_display": true,
   "toc_window_display": true
  }
 },
 "nbformat": 4,
 "nbformat_minor": 2
}
