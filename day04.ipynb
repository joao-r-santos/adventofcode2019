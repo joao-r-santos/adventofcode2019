{
 "cells": [
  {
   "cell_type": "markdown",
   "metadata": {
    "toc": true
   },
   "source": [
    "<h1>Table of Contents<span class=\"tocSkip\"></span></h1>\n",
    "<div class=\"toc\"><ul class=\"toc-item\"><li><span><a href=\"#Advent-of-code-2019\" data-toc-modified-id=\"Advent-of-code-2019-1\">Advent of code 2019</a></span><ul class=\"toc-item\"><li><span><a href=\"#Day-4\" data-toc-modified-id=\"Day-4-1.1\">Day 4</a></span><ul class=\"toc-item\"><li><span><a href=\"#Part-1\" data-toc-modified-id=\"Part-1-1.1.1\">Part 1</a></span></li><li><span><a href=\"#Part-2\" data-toc-modified-id=\"Part-2-1.1.2\">Part 2</a></span></li></ul></li></ul></li></ul></div>"
   ]
  },
  {
   "cell_type": "markdown",
   "metadata": {},
   "source": [
    "# Advent of code 2019"
   ]
  },
  {
   "cell_type": "markdown",
   "metadata": {},
   "source": [
    "https://adventofcode.com/2019"
   ]
  },
  {
   "cell_type": "markdown",
   "metadata": {},
   "source": [
    "## Day 4"
   ]
  },
  {
   "cell_type": "markdown",
   "metadata": {},
   "source": [
    "### Part 1"
   ]
  },
  {
   "cell_type": "markdown",
   "metadata": {},
   "source": [
    "Password:\n",
    "- It is a six-digit number.\n",
    "- The value is within the range given in your puzzle input.\n",
    "- Two adjacent digits are the same (like 22 in 122345).\n",
    "- Going from left to right, the digits never decrease; they only ever increase or stay the same (like 111123 or 135679)"
   ]
  },
  {
   "cell_type": "code",
   "execution_count": 1,
   "metadata": {},
   "outputs": [],
   "source": [
    "def test_password(f):\n",
    "    f(111111) == True\n",
    "    f(223450) == False\n",
    "    f(123789) == False"
   ]
  },
  {
   "cell_type": "code",
   "execution_count": 2,
   "metadata": {},
   "outputs": [],
   "source": [
    "def is_valid_password(num):\n",
    "    if num < 100000 or num > 999999:\n",
    "        return False\n",
    "\n",
    "    str_num = str(num)\n",
    "    list_num = [int(u) for u in str_num]\n",
    "    \n",
    "    for i in range(1, 6):\n",
    "        if list_num[i] < list_num[i-1]:\n",
    "            return False\n",
    "    \n",
    "    for i in range(1, 6):\n",
    "        if list_num[i] == list_num[i-1]:\n",
    "            return True\n",
    "    \n",
    "    return False"
   ]
  },
  {
   "cell_type": "code",
   "execution_count": 3,
   "metadata": {},
   "outputs": [],
   "source": [
    "test_password(is_valid_password)"
   ]
  },
  {
   "cell_type": "code",
   "execution_count": 4,
   "metadata": {},
   "outputs": [
    {
     "data": {
      "text/plain": [
       "2050"
      ]
     },
     "execution_count": 4,
     "metadata": {},
     "output_type": "execute_result"
    }
   ],
   "source": [
    "sum(is_valid_password(num) for num in range(128392, 643281+1))"
   ]
  },
  {
   "cell_type": "markdown",
   "metadata": {},
   "source": [
    "### Part 2"
   ]
  },
  {
   "cell_type": "markdown",
   "metadata": {},
   "source": [
    "- the two adjacent matching digits are not part of a larger group of matching digits."
   ]
  },
  {
   "cell_type": "code",
   "execution_count": 5,
   "metadata": {},
   "outputs": [],
   "source": [
    "def test_password(f):\n",
    "    f(112233) == True\n",
    "    f(123444) == False\n",
    "    f(111122) == True"
   ]
  },
  {
   "cell_type": "code",
   "execution_count": 6,
   "metadata": {},
   "outputs": [],
   "source": [
    "def is_valid_password(num):\n",
    "    if num < 100000 or num > 999999:\n",
    "        return False\n",
    "\n",
    "    list_num = [int(u) for u in str(num)]\n",
    "    \n",
    "    for i in range(1, 6):\n",
    "        if list_num[i] < list_num[i-1]:\n",
    "            return False\n",
    "        \n",
    "    distances = []\n",
    "    start = 0\n",
    "    i = 1\n",
    "    while i < 6:\n",
    "        if list_num[i] != list_num[i-1]:\n",
    "            distances.append(i-start)\n",
    "            start = i\n",
    "        i += 1\n",
    "    distances.append(i-start)\n",
    "\n",
    "    if 2 in distances:\n",
    "        return True\n",
    "    else:\n",
    "        return False"
   ]
  },
  {
   "cell_type": "code",
   "execution_count": 7,
   "metadata": {},
   "outputs": [],
   "source": [
    "test_password(is_valid_password)"
   ]
  },
  {
   "cell_type": "code",
   "execution_count": 8,
   "metadata": {
    "scrolled": true
   },
   "outputs": [
    {
     "data": {
      "text/plain": [
       "1390"
      ]
     },
     "execution_count": 8,
     "metadata": {},
     "output_type": "execute_result"
    }
   ],
   "source": [
    "sum(is_valid_password(num) for num in range(128392, 643281+1))"
   ]
  }
 ],
 "metadata": {
  "kernelspec": {
   "display_name": "Python 3",
   "language": "python",
   "name": "python3"
  },
  "language_info": {
   "codemirror_mode": {
    "name": "ipython",
    "version": 3
   },
   "file_extension": ".py",
   "mimetype": "text/x-python",
   "name": "python",
   "nbconvert_exporter": "python",
   "pygments_lexer": "ipython3",
   "version": "3.6.8"
  },
  "toc": {
   "base_numbering": 1,
   "nav_menu": {},
   "number_sections": false,
   "sideBar": true,
   "skip_h1_title": false,
   "title_cell": "Table of Contents",
   "title_sidebar": "Contents",
   "toc_cell": true,
   "toc_position": {},
   "toc_section_display": true,
   "toc_window_display": true
  }
 },
 "nbformat": 4,
 "nbformat_minor": 2
}
