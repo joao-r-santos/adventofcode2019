{
 "cells": [
  {
   "cell_type": "markdown",
   "metadata": {
    "toc": true
   },
   "source": [
    "<h1>Table of Contents<span class=\"tocSkip\"></span></h1>\n",
    "<div class=\"toc\"><ul class=\"toc-item\"><li><span><a href=\"#Advent-of-code-2019\" data-toc-modified-id=\"Advent-of-code-2019-1\">Advent of code 2019</a></span><ul class=\"toc-item\"><li><span><a href=\"#Day-8\" data-toc-modified-id=\"Day-8-1.1\">Day 8</a></span><ul class=\"toc-item\"><li><span><a href=\"#Part-1\" data-toc-modified-id=\"Part-1-1.1.1\">Part 1</a></span></li><li><span><a href=\"#Part-2\" data-toc-modified-id=\"Part-2-1.1.2\">Part 2</a></span></li></ul></li></ul></li></ul></div>"
   ]
  },
  {
   "cell_type": "markdown",
   "metadata": {},
   "source": [
    "# Advent of code 2019"
   ]
  },
  {
   "cell_type": "markdown",
   "metadata": {},
   "source": [
    "https://adventofcode.com/2019"
   ]
  },
  {
   "cell_type": "markdown",
   "metadata": {},
   "source": [
    "## Day 8"
   ]
  },
  {
   "cell_type": "markdown",
   "metadata": {},
   "source": [
    "### Part 1"
   ]
  },
  {
   "cell_type": "code",
   "execution_count": 23,
   "metadata": {
    "ExecuteTime": {
     "end_time": "2019-12-15T23:08:49.648159Z",
     "start_time": "2019-12-15T23:08:49.641048Z"
    }
   },
   "outputs": [],
   "source": [
    "input_file = 'input/input_day08.txt'\n",
    "with open(input_file, 'r') as fin:\n",
    "    data = fin.readline().strip()\n",
    "    data = [int(u) for u in data]"
   ]
  },
  {
   "cell_type": "code",
   "execution_count": 26,
   "metadata": {
    "ExecuteTime": {
     "end_time": "2019-12-15T23:10:14.652716Z",
     "start_time": "2019-12-15T23:10:14.648212Z"
    }
   },
   "outputs": [],
   "source": [
    "def get_img(data, cols=25, rows=6):\n",
    "    img_size = cols*rows\n",
    "    n_layers = len(data) // img_size\n",
    "\n",
    "    img = []\n",
    "    for i in range(n_layers):\n",
    "        layer = []\n",
    "        for t in range(rows):\n",
    "            ind_start = img_size*i + cols*t\n",
    "            ind_end = img_size*i + cols*(t+1)\n",
    "            layer.append(data[ind_start:ind_end])\n",
    "        img.append(layer)\n",
    "    \n",
    "    return img"
   ]
  },
  {
   "cell_type": "code",
   "execution_count": 27,
   "metadata": {
    "ExecuteTime": {
     "end_time": "2019-12-15T23:10:15.183283Z",
     "start_time": "2019-12-15T23:10:15.179918Z"
    }
   },
   "outputs": [],
   "source": [
    "img = get_img(data)"
   ]
  },
  {
   "cell_type": "code",
   "execution_count": 36,
   "metadata": {
    "ExecuteTime": {
     "end_time": "2019-12-15T23:16:11.384350Z",
     "start_time": "2019-12-15T23:16:11.381345Z"
    }
   },
   "outputs": [],
   "source": [
    "def count_number(layer, num):\n",
    "    return sum([1 if u == num else 0 for row in layer for u in row])"
   ]
  },
  {
   "cell_type": "code",
   "execution_count": 39,
   "metadata": {
    "ExecuteTime": {
     "end_time": "2019-12-15T23:18:30.201940Z",
     "start_time": "2019-12-15T23:18:30.197379Z"
    }
   },
   "outputs": [],
   "source": [
    "ind_layer = 0\n",
    "zeros = len(img[0][0])*len(img[0]) + 1\n",
    "\n",
    "for i, layer in enumerate(img):\n",
    "    sum_zeros = count_number(layer, 0)\n",
    "    if sum_zeros < zeros:\n",
    "        zeros = sum_zeros\n",
    "        ind_layer = i"
   ]
  },
  {
   "cell_type": "code",
   "execution_count": 41,
   "metadata": {
    "ExecuteTime": {
     "end_time": "2019-12-15T23:18:47.368655Z",
     "start_time": "2019-12-15T23:18:47.365905Z"
    }
   },
   "outputs": [],
   "source": [
    "layer = img[ind_layer]"
   ]
  },
  {
   "cell_type": "code",
   "execution_count": 42,
   "metadata": {
    "ExecuteTime": {
     "end_time": "2019-12-15T23:19:02.995400Z",
     "start_time": "2019-12-15T23:19:02.991780Z"
    }
   },
   "outputs": [
    {
     "data": {
      "text/plain": [
       "1920"
      ]
     },
     "execution_count": 42,
     "metadata": {},
     "output_type": "execute_result"
    }
   ],
   "source": [
    "count_number(layer, 1) * count_number(layer, 2)"
   ]
  },
  {
   "cell_type": "markdown",
   "metadata": {},
   "source": [
    "### Part 2"
   ]
  },
  {
   "cell_type": "code",
   "execution_count": 70,
   "metadata": {
    "ExecuteTime": {
     "end_time": "2019-12-15T23:35:46.709242Z",
     "start_time": "2019-12-15T23:35:46.705786Z"
    }
   },
   "outputs": [],
   "source": [
    "def test_img(f):\n",
    "    img = get_img([int(u) for u in '0222112222120000'], 2, 2)\n",
    "    assert f(img) == [[0, 1],\n",
    "                      [1, 0]]"
   ]
  },
  {
   "cell_type": "code",
   "execution_count": 71,
   "metadata": {
    "ExecuteTime": {
     "end_time": "2019-12-15T23:35:47.060689Z",
     "start_time": "2019-12-15T23:35:47.055355Z"
    }
   },
   "outputs": [],
   "source": [
    "def get_final_img(img):\n",
    "    n_layers = len(img)\n",
    "    n_rows = len(img[0])\n",
    "    n_cols = len(img[0][0])\n",
    "\n",
    "    new_img = [[2 for _ in range(n_cols)] for _ in range(n_rows)]\n",
    "\n",
    "    for i in range(n_rows):\n",
    "        for j in range(n_cols):\n",
    "            for k in range(n_layers):\n",
    "                if img[k][i][j] != 2:\n",
    "                    new_img[i][j] = img[k][i][j]\n",
    "                    break\n",
    "\n",
    "    return new_img"
   ]
  },
  {
   "cell_type": "code",
   "execution_count": 72,
   "metadata": {
    "ExecuteTime": {
     "end_time": "2019-12-15T23:35:47.510065Z",
     "start_time": "2019-12-15T23:35:47.507631Z"
    }
   },
   "outputs": [],
   "source": [
    "test_img(get_final_img)"
   ]
  },
  {
   "cell_type": "code",
   "execution_count": 73,
   "metadata": {
    "ExecuteTime": {
     "end_time": "2019-12-15T23:35:48.469048Z",
     "start_time": "2019-12-15T23:35:48.465733Z"
    }
   },
   "outputs": [],
   "source": [
    "final_img = get_final_img(img)"
   ]
  },
  {
   "cell_type": "code",
   "execution_count": 74,
   "metadata": {
    "ExecuteTime": {
     "end_time": "2019-12-15T23:35:48.948876Z",
     "start_time": "2019-12-15T23:35:48.945026Z"
    }
   },
   "outputs": [],
   "source": [
    "%matplotlib inline\n",
    "import matplotlib.pyplot as plt"
   ]
  },
  {
   "cell_type": "code",
   "execution_count": 76,
   "metadata": {
    "ExecuteTime": {
     "end_time": "2019-12-15T23:35:54.518578Z",
     "start_time": "2019-12-15T23:35:54.376665Z"
    }
   },
   "outputs": [
    {
     "data": {
      "image/png": "[encoded data removed]",
      "text/plain": [
       "<Figure size 432x288 with 1 Axes>"
      ]
     },
     "metadata": {
      "needs_background": "light"
     },
     "output_type": "display_data"
    }
   ],
   "source": [
    "plt.imshow(final_img, cmap='gray');"
   ]
  }
 ],
 "metadata": {
  "kernelspec": {
   "display_name": "python3",
   "language": "python",
   "name": "python3"
  },
  "language_info": {
   "codemirror_mode": {
    "name": "ipython",
    "version": 3
   },
   "file_extension": ".py",
   "mimetype": "text/x-python",
   "name": "python",
   "nbconvert_exporter": "python",
   "pygments_lexer": "ipython3",
   "version": "3.6.7"
  },
  "toc": {
   "base_numbering": 1,
   "nav_menu": {},
   "number_sections": false,
   "sideBar": true,
   "skip_h1_title": false,
   "title_cell": "Table of Contents",
   "title_sidebar": "Contents",
   "toc_cell": true,
   "toc_position": {},
   "toc_section_display": true,
   "toc_window_display": true
  }
 },
 "nbformat": 4,
 "nbformat_minor": 2
}
