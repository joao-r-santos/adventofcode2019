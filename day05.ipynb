{
 "cells": [
  {
   "cell_type": "markdown",
   "metadata": {
    "toc": true
   },
   "source": [
    "<h1>Table of Contents<span class=\"tocSkip\"></span></h1>\n",
    "<div class=\"toc\"><ul class=\"toc-item\"><li><span><a href=\"#Advent-of-code-2019\" data-toc-modified-id=\"Advent-of-code-2019-1\">Advent of code 2019</a></span><ul class=\"toc-item\"><li><span><a href=\"#Day-5\" data-toc-modified-id=\"Day-5-1.1\">Day 5</a></span><ul class=\"toc-item\"><li><span><a href=\"#Part-1\" data-toc-modified-id=\"Part-1-1.1.1\">Part 1</a></span></li><li><span><a href=\"#Part-2\" data-toc-modified-id=\"Part-2-1.1.2\">Part 2</a></span></li></ul></li></ul></li></ul></div>"
   ]
  },
  {
   "cell_type": "markdown",
   "metadata": {},
   "source": [
    "# Advent of code 2019"
   ]
  },
  {
   "cell_type": "markdown",
   "metadata": {},
   "source": [
    "https://adventofcode.com/2019"
   ]
  },
  {
   "cell_type": "markdown",
   "metadata": {},
   "source": [
    "## Day 5"
   ]
  },
  {
   "cell_type": "markdown",
   "metadata": {},
   "source": [
    "### Part 1"
   ]
  },
  {
   "cell_type": "code",
   "execution_count": 89,
   "metadata": {},
   "outputs": [],
   "source": [
    "def test_intcode(f):\n",
    "    assert f([1002,4,3,4,33]) == []\n",
    "    assert f([1002,4,2,3,4,3,99]) == [8]\n",
    "    assert f([1101,100,-2,3,4,3,99]) == [98]\n",
    "    assert f([3,0,4,0,99], [1]) == [1]"
   ]
  },
  {
   "cell_type": "code",
   "execution_count": 90,
   "metadata": {},
   "outputs": [],
   "source": [
    "def get_opcode(value):\n",
    "    opcode = value % 100\n",
    "    if opcode not in (1, 2, 3, 4, 99):\n",
    "        raise ValueError(\"ERROR: {} is wrong opcode\".format(opcode))\n",
    "    \n",
    "    list_modes = []\n",
    "    modes = value // 100\n",
    "    for i in range(3):\n",
    "        temp_mode, modes = modes % 10, modes // 10\n",
    "        list_modes.append(temp_mode)\n",
    "\n",
    "    if any(True if u not in (0, 1) else False for u in list_modes):\n",
    "        raise ValueError(\"ERROR: wrong parameter code in {}\".format(value))\n",
    "    \n",
    "    return opcode, list_modes"
   ]
  },
  {
   "cell_type": "code",
   "execution_count": 91,
   "metadata": {},
   "outputs": [],
   "source": [
    "def get_param(values, pos, param_num, modes):\n",
    "    val = values[pos+param_num]\n",
    "    param = values[val] if modes[param_num-1] == 0 else val\n",
    "    return param"
   ]
  },
  {
   "cell_type": "code",
   "execution_count": 92,
   "metadata": {},
   "outputs": [],
   "source": [
    "def run_intcode(array, input_nums=None):\n",
    "    values = array[:]\n",
    "    if input_nums:\n",
    "        inputs = input_nums[:]\n",
    "    output = []\n",
    "\n",
    "    i = 0\n",
    "    N = len(values)\n",
    "    while i < N:\n",
    "        opcode, modes = get_opcode(values[i])\n",
    "        # print(opcode, modes)\n",
    "\n",
    "        if opcode == 99:\n",
    "            # print(output)\n",
    "            return output\n",
    "        elif opcode == 1:\n",
    "            if modes[2] == 0:\n",
    "                val1 = get_param(values, i, 1, modes)\n",
    "                val2 = get_param(values, i, 2, modes)\n",
    "                values[values[i+3]] = val1 + val2\n",
    "            i += 4\n",
    "        elif opcode == 2:\n",
    "            if modes[2] == 0:\n",
    "                val1 = get_param(values, i, 1, modes)\n",
    "                val2 = get_param(values, i, 2, modes)\n",
    "                values[values[i+3]] = val1 * val2\n",
    "            i += 4\n",
    "        elif opcode == 3:\n",
    "            if modes[0] == 0:\n",
    "                values[values[i+1]] = inputs.pop(0)\n",
    "            i += 2\n",
    "        elif opcode == 4:\n",
    "            val1 = get_param(values, i, 1, modes)\n",
    "            output.append(val1)\n",
    "            i += 2\n",
    "    return output"
   ]
  },
  {
   "cell_type": "code",
   "execution_count": 93,
   "metadata": {},
   "outputs": [],
   "source": [
    "test_intcode(run_intcode)"
   ]
  },
  {
   "cell_type": "code",
   "execution_count": 94,
   "metadata": {},
   "outputs": [],
   "source": [
    "input_file = 'input/input_day05.txt'\n",
    "with open(input_file, 'r') as fin:\n",
    "    data = fin.readline().strip()\n",
    "    data = [int(u) for u in data.split(',')]"
   ]
  },
  {
   "cell_type": "code",
   "execution_count": 95,
   "metadata": {},
   "outputs": [
    {
     "data": {
      "text/plain": [
       "[0, 0, 0, 0, 0, 0, 0, 0, 0, 9431221]"
      ]
     },
     "execution_count": 95,
     "metadata": {},
     "output_type": "execute_result"
    }
   ],
   "source": [
    "run_intcode(data, input_nums=[1])"
   ]
  },
  {
   "cell_type": "markdown",
   "metadata": {},
   "source": [
    "### Part 2"
   ]
  },
  {
   "cell_type": "code",
   "execution_count": 99,
   "metadata": {},
   "outputs": [],
   "source": [
    "def get_opcode(value):\n",
    "    opcode = value % 100\n",
    "    if opcode not in (1, 2, 3, 4, 5, 6, 7, 8, 99):\n",
    "        raise ValueError(\"ERROR: {} is wrong opcode\".format(opcode))\n",
    "    \n",
    "    list_modes = []\n",
    "    modes = value // 100\n",
    "    for i in range(3):\n",
    "        temp_mode, modes = modes % 10, modes // 10\n",
    "        list_modes.append(temp_mode)\n",
    "\n",
    "    if any(True if u not in (0, 1) else False for u in list_modes):\n",
    "        raise ValueError(\"ERROR: wrong parameter code in {}\".format(value))\n",
    "    \n",
    "    return opcode, list_modes"
   ]
  },
  {
   "cell_type": "code",
   "execution_count": 100,
   "metadata": {},
   "outputs": [],
   "source": [
    "def get_param(values, pos, param_num, modes):\n",
    "    val = values[pos+param_num]\n",
    "    param = values[val] if modes[param_num-1] == 0 else val\n",
    "    return param"
   ]
  },
  {
   "cell_type": "code",
   "execution_count": 101,
   "metadata": {},
   "outputs": [],
   "source": [
    "def run_intcode(array, input_nums=None):\n",
    "    values = array[:]\n",
    "    if input_nums:\n",
    "        inputs = input_nums[:]\n",
    "    output = []\n",
    "\n",
    "    i = 0\n",
    "    N = len(values)\n",
    "    while i < N:\n",
    "        opcode, modes = get_opcode(values[i])\n",
    "        # print(opcode, modes)\n",
    "\n",
    "        if opcode == 99:\n",
    "            # print(output)\n",
    "            return output\n",
    "        elif opcode == 1:\n",
    "            if modes[2] == 0:\n",
    "                val1 = get_param(values, i, 1, modes)\n",
    "                val2 = get_param(values, i, 2, modes)\n",
    "                values[values[i+3]] = val1 + val2\n",
    "            i += 4\n",
    "        elif opcode == 2:\n",
    "            if modes[2] == 0:\n",
    "                val1 = get_param(values, i, 1, modes)\n",
    "                val2 = get_param(values, i, 2, modes)\n",
    "                values[values[i+3]] = val1 * val2\n",
    "            i += 4\n",
    "        elif opcode == 3:\n",
    "            if modes[0] == 0:\n",
    "                values[values[i+1]] = inputs.pop(0)\n",
    "            i += 2\n",
    "        elif opcode == 4:\n",
    "            val1 = get_param(values, i, 1, modes)\n",
    "            output.append(val1)\n",
    "            i += 2\n",
    "        elif opcode == 5:\n",
    "            val1 = get_param(values, i, 1, modes)\n",
    "            val2 = get_param(values, i, 2, modes)\n",
    "            if val1 != 0:\n",
    "                i = val2\n",
    "            else:\n",
    "                i += 3\n",
    "        elif opcode == 6:\n",
    "            val1 = get_param(values, i, 1, modes)\n",
    "            val2 = get_param(values, i, 2, modes)\n",
    "            if val1 == 0:\n",
    "                i = val2\n",
    "            else:\n",
    "                i += 3\n",
    "        elif opcode == 7:\n",
    "            val1 = get_param(values, i, 1, modes)\n",
    "            val2 = get_param(values, i, 2, modes)\n",
    "            if modes[2] == 0:\n",
    "                if val1 < val2:\n",
    "                    values[values[i+3]] = 1\n",
    "                else:\n",
    "                    values[values[i+3]] = 0\n",
    "            i += 4\n",
    "        elif opcode == 8:\n",
    "            val1 = get_param(values, i, 1, modes)\n",
    "            val2 = get_param(values, i, 2, modes)\n",
    "            if modes[2] == 0:\n",
    "                if val1 == val2:\n",
    "                    values[values[i+3]] = 1\n",
    "                else:\n",
    "                    values[values[i+3]] = 0\n",
    "            i += 4\n",
    "\n",
    "    return output"
   ]
  },
  {
   "cell_type": "code",
   "execution_count": 116,
   "metadata": {},
   "outputs": [],
   "source": [
    "def test_intcode(f):\n",
    "    assert f([3,9,8,9,10,9,4,9,99,-1,8], [8]) == [1]\n",
    "    assert f([3,9,8,9,10,9,4,9,99,-1,8], [9]) == [0]\n",
    "    assert f([3,9,7,9,10,9,4,9,99,-1,8], [7]) == [1]\n",
    "    assert f([3,9,7,9,10,9,4,9,99,-1,8], [8]) == [0]\n",
    "\n",
    "    assert f([3,3,1108,-1,8,3,4,3,99], [8]) == [1]\n",
    "    assert f([3,3,1108,-1,8,3,4,3,99], [9]) == [0]\n",
    "    assert f([3,3,1107,-1,8,3,4,3,99], [7]) == [1]\n",
    "    assert f([3,3,1107,-1,8,3,4,3,99], [8]) == [0]\n",
    "    \n",
    "    assert f([3,12,6,12,15,1,13,14,13,4,13,99,-1,0,1,9], [0]) == [0]\n",
    "    assert f([3,12,6,12,15,1,13,14,13,4,13,99,-1,0,1,9], [2]) == [1]\n",
    "    assert f([3,3,1105,-1,9,1101,0,0,12,4,12,99,1], [0]) == [0]\n",
    "    assert f([3,3,1105,-1,9,1101,0,0,12,4,12,99,1], [2]) == [1]\n",
    "    \n",
    "    assert f([\n",
    "        3,21,1008,21,8,20,1005,20,22,107,8,21,20,1006,20,31,\n",
    "        1106,0,36,98,0,0,1002,21,125,20,4,20,1105,1,46,104,\n",
    "        999,1105,1,46,1101,1000,1,20,4,20,1105,1,46,98,99\n",
    "    ], [7]) == [999]\n",
    "    assert f([\n",
    "        3,21,1008,21,8,20,1005,20,22,107,8,21,20,1006,20,31,\n",
    "        1106,0,36,98,0,0,1002,21,125,20,4,20,1105,1,46,104,\n",
    "        999,1105,1,46,1101,1000,1,20,4,20,1105,1,46,98,99\n",
    "    ], [8]) == [1000]\n",
    "    assert f([\n",
    "        3,21,1008,21,8,20,1005,20,22,107,8,21,20,1006,20,31,\n",
    "        1106,0,36,98,0,0,1002,21,125,20,4,20,1105,1,46,104,\n",
    "        999,1105,1,46,1101,1000,1,20,4,20,1105,1,46,98,99\n",
    "    ], [9]) == [1001]"
   ]
  },
  {
   "cell_type": "code",
   "execution_count": 117,
   "metadata": {},
   "outputs": [],
   "source": [
    "test_intcode(run_intcode)"
   ]
  },
  {
   "cell_type": "code",
   "execution_count": 118,
   "metadata": {},
   "outputs": [
    {
     "data": {
      "text/plain": [
       "[1409363]"
      ]
     },
     "execution_count": 118,
     "metadata": {},
     "output_type": "execute_result"
    }
   ],
   "source": [
    "run_intcode(data, [5])"
   ]
  }
 ],
 "metadata": {
  "kernelspec": {
   "display_name": "Python 3",
   "language": "python",
   "name": "python3"
  },
  "language_info": {
   "codemirror_mode": {
    "name": "ipython",
    "version": 3
   },
   "file_extension": ".py",
   "mimetype": "text/x-python",
   "name": "python",
   "nbconvert_exporter": "python",
   "pygments_lexer": "ipython3",
   "version": "3.6.8"
  },
  "toc": {
   "base_numbering": 1,
   "nav_menu": {},
   "number_sections": false,
   "sideBar": true,
   "skip_h1_title": false,
   "title_cell": "Table of Contents",
   "title_sidebar": "Contents",
   "toc_cell": true,
   "toc_position": {},
   "toc_section_display": true,
   "toc_window_display": true
  }
 },
 "nbformat": 4,
 "nbformat_minor": 2
}
